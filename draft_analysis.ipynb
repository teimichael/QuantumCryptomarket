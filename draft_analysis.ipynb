{
 "cells": [
  {
   "cell_type": "markdown",
   "source": [
    "# Draft analysis\n",
    "## Yepeng Ding\n",
    "### 12/18/2019"
   ],
   "metadata": {
    "collapsed": false,
    "pycharm": {
     "name": "#%% md\n"
    }
   }
  },
  {
   "cell_type": "markdown",
   "source": [
    "### Import libraries"
   ],
   "metadata": {
    "collapsed": false,
    "pycharm": {
     "name": "#%% md\n"
    }
   }
  },
  {
   "cell_type": "code",
   "execution_count": 1,
   "metadata": {
    "collapsed": true,
    "pycharm": {
     "is_executing": false,
     "name": "#%%\n"
    }
   },
   "outputs": [],
   "source": [
    "import pandas as pd\n",
    "import numpy as np\n",
    "from matplotlib import pyplot as plt\n",
    "from data_processor import get_log_return\n",
    "from anharmonic_oscillator import AnharmonicOscillator"
   ]
  },
  {
   "cell_type": "markdown",
   "source": [
    "### Data processing"
   ],
   "metadata": {
    "collapsed": false
   }
  },
  {
   "cell_type": "code",
   "execution_count": 2,
   "outputs": [],
   "source": [
    "log_return = get_log_return()"
   ],
   "metadata": {
    "collapsed": false,
    "pycharm": {
     "name": "#%%\n",
     "is_executing": false
    }
   }
  },
  {
   "cell_type": "markdown",
   "source": [
    "### Construct anharmonic oscillator"
   ],
   "metadata": {
    "collapsed": false
   }
  },
  {
   "cell_type": "code",
   "execution_count": 3,
   "outputs": [],
   "source": [
    "omega = 60000\n",
    "third = 0\n",
    "fourth = 0\n",
    "fifth = 0\n",
    "ao = AnharmonicOscillator(interval_length=0.001, data_size=2256, boundary=0.4, omega=omega, h_bar=1, m=1, coefficient=[third, fourth, fifth])"
   ],
   "metadata": {
    "collapsed": false,
    "pycharm": {
     "name": "#%%\n",
     "is_executing": false
    }
   }
  },
  {
   "cell_type": "code",
   "execution_count": 4,
   "outputs": [
    {
     "data": {
      "text/plain": "<Figure size 432x288 with 1 Axes>",
      "image/png": "[encoded data removed]"
     },
     "metadata": {
      "needs_background": "light"
     },
     "output_type": "display_data"
    }
   ],
   "source": [
    "max_level = 100\n",
    "w = [1.1**i for i in range(max_level, 0, -1)]\n",
    "\n",
    "pdf = w[0] * ao.get_pdf_norm_graph(0)\n",
    "\n",
    "for i in range(1, max_level):\n",
    "    pdf += w[i] * ao.get_pdf_norm_graph(i)\n",
    "\n",
    "pdf /= sum(w)\n",
    "\n",
    "plt.plot(log_return.index, log_return, label='Real')\n",
    "plt.plot(ao.position, pdf, label='Simulation')\n",
    "# plt.plot(ao.position, np.diag(ao.potential), label='Potential')\n",
    "plt.legend()\n",
    "plt.show()"
   ],
   "metadata": {
    "collapsed": false,
    "pycharm": {
     "name": "#%%\n",
     "is_executing": false
    }
   }
  }
 ],
 "metadata": {
  "kernelspec": {
   "display_name": "Python 3",
   "language": "python",
   "name": "python3"
  },
  "language_info": {
   "codemirror_mode": {
    "name": "ipython",
    "version": 2
   },
   "file_extension": ".py",
   "mimetype": "text/x-python",
   "name": "python",
   "nbconvert_exporter": "python",
   "pygments_lexer": "ipython2",
   "version": "2.7.6"
  },
  "pycharm": {
   "stem_cell": {
    "cell_type": "raw",
    "source": [],
    "metadata": {
     "collapsed": false
    }
   }
  }
 },
 "nbformat": 4,
 "nbformat_minor": 0
}