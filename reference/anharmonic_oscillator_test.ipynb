{
 "cells": [
  {
   "cell_type": "code",
   "execution_count": 1,
   "metadata": {
    "collapsed": true,
    "pycharm": {
     "is_executing": false
    }
   },
   "outputs": [],
   "source": [
    "import numpy as np\n",
    "from matplotlib import pyplot as plt"
   ]
  },
  {
   "cell_type": "code",
   "execution_count": 2,
   "outputs": [],
   "source": [
    "step_size = 0.005\n",
    "number_of_data_points = 2001\n",
    "x_positions = np.linspace(-step_size*(number_of_data_points-1)/2,step_size*(number_of_data_points-1)/2,number_of_data_points)\n",
    "\n",
    "h_bar = 1\n",
    "mass = 1\n",
    "gamma=1\n",
    "k=0.01\n",
    "c=0.2\n",
    "omega = ((gamma + c)/mass) ** 0.5"
   ],
   "metadata": {
    "collapsed": false,
    "pycharm": {
     "name": "#%%\n",
     "is_executing": false
    }
   }
  },
  {
   "cell_type": "code",
   "execution_count": 3,
   "outputs": [
    {
     "name": "stdout",
     "text": [
      "[[ 40000. -20000.      0. ...      0.      0.      0.]\n",
      " [-20000.  40000. -20000. ...      0.      0.      0.]\n",
      " [     0. -20000.  40000. ...      0.      0.      0.]\n",
      " ...\n",
      " [     0.      0.      0. ...  40000. -20000.      0.]\n",
      " [     0.      0.      0. ... -20000.  40000. -20000.]\n",
      " [     0.      0.      0. ...      0. -20000.  40000.]]\n"
     ],
     "output_type": "stream"
    }
   ],
   "source": [
    "kinetic = 2 * np.eye(number_of_data_points) - 1 * np.eye(number_of_data_points, k=1) - 1 * np.eye(number_of_data_points, k=-1)\n",
    "kinetic_multiplier = h_bar**2/(2*mass*step_size**2)\n",
    "kinetic = kinetic * kinetic_multiplier\n",
    "print(kinetic)\n",
    "\n",
    "potential = np.zeros((number_of_data_points, number_of_data_points))\n",
    "for i in range(len(potential)):\n",
    "    potential[i][i] = gamma*(0.5*(1+c)*x_positions[i]**2-0.25*k*c*x_positions[i]**4)\n",
    "\n",
    "hamiltonian = kinetic + potential"
   ],
   "metadata": {
    "collapsed": false,
    "pycharm": {
     "name": "#%%\n",
     "is_executing": false
    }
   }
  },
  {
   "cell_type": "code",
   "execution_count": 4,
   "outputs": [
    {
     "name": "stdout",
     "text": [
      "[3.44310578e-09 6.88864596e-09 1.03390466e-08 ... 1.03390503e-08\n",
      " 6.88864872e-09 3.44310729e-09]\n"
     ],
     "output_type": "stream"
    }
   ],
   "source": [
    "eigenvalues, eigenvectors = np.linalg.eig(hamiltonian)\n",
    "Z = zip(eigenvalues, np.transpose(eigenvectors))\n",
    "Z = sorted(Z)\n",
    "eigenvalues, eigenvectors = zip(*Z)\n",
    "print(eigenvectors[0])\n",
    "\n",
    "ground_state= eigenvectors[0]*eigenvectors[0]\n",
    "ground_state_probability=ground_state/sum(ground_state*step_size); "
   ],
   "metadata": {
    "collapsed": false,
    "pycharm": {
     "name": "#%%\n",
     "is_executing": false
    }
   }
  },
  {
   "cell_type": "code",
   "execution_count": 5,
   "outputs": [
    {
     "data": {
      "text/plain": "<Figure size 432x288 with 1 Axes>",
      "image/png": "[encoded data removed]"
     },
     "metadata": {
      "needs_background": "light"
     },
     "output_type": "display_data"
    }
   ],
   "source": [
    "plt.plot(x_positions, ground_state_probability + eigenvalues[0])\n",
    "plt.show()\n"
   ],
   "metadata": {
    "collapsed": false,
    "pycharm": {
     "name": "#%%\n",
     "is_executing": false
    }
   }
  }
 ],
 "metadata": {
  "kernelspec": {
   "display_name": "Python 3",
   "language": "python",
   "name": "python3"
  },
  "language_info": {
   "codemirror_mode": {
    "name": "ipython",
    "version": 2
   },
   "file_extension": ".py",
   "mimetype": "text/x-python",
   "name": "python",
   "nbconvert_exporter": "python",
   "pygments_lexer": "ipython2",
   "version": "2.7.6"
  },
  "pycharm": {
   "stem_cell": {
    "cell_type": "raw",
    "source": [],
    "metadata": {
     "collapsed": false
    }
   }
  }
 },
 "nbformat": 4,
 "nbformat_minor": 0
}