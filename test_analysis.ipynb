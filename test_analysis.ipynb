{
 "cells": [
  {
   "cell_type": "markdown",
   "source": [
    "# Draft analysis\n",
    "## Yepeng Ding\n",
    "### 12/18/2019"
   ],
   "metadata": {
    "collapsed": false,
    "pycharm": {
     "name": "#%% md\n"
    }
   }
  },
  {
   "cell_type": "markdown",
   "source": [
    "### Import libraries"
   ],
   "metadata": {
    "collapsed": false,
    "pycharm": {
     "name": "#%% md\n"
    }
   }
  },
  {
   "cell_type": "code",
   "execution_count": 134,
   "metadata": {
    "collapsed": true,
    "pycharm": {
     "is_executing": false,
     "name": "#%%\n"
    }
   },
   "outputs": [],
   "source": [
    "import pandas as pd\n",
    "import numpy as np\n",
    "from matplotlib import pyplot as plt\n",
    "from data_processor import get_log_return\n",
    "from anharmonic_oscillator import AnharmonicOscillator"
   ]
  },
  {
   "cell_type": "markdown",
   "source": [
    "### Data processing"
   ],
   "metadata": {
    "collapsed": false
   }
  },
  {
   "cell_type": "code",
   "execution_count": 135,
   "outputs": [],
   "source": [
    "log_return = get_log_return(2)"
   ],
   "metadata": {
    "collapsed": false,
    "pycharm": {
     "name": "#%%\n",
     "is_executing": false
    }
   }
  },
  {
   "cell_type": "markdown",
   "source": [
    "### Construct anharmonic oscillator"
   ],
   "metadata": {
    "collapsed": false
   }
  },
  {
   "cell_type": "code",
   "execution_count": 136,
   "outputs": [],
   "source": [
    "omega = 60000\n",
    "third = 0\n",
    "fourth = 0\n",
    "fifth = 0\n",
    "ao = AnharmonicOscillator(interval_length=0.001, data_size=2256, boundary=0.4, omega=omega, h_bar=1, m=1, coefficient=[third, fourth, fifth])"
   ],
   "metadata": {
    "collapsed": false,
    "pycharm": {
     "name": "#%%\n",
     "is_executing": false
    }
   }
  },
  {
   "cell_type": "code",
   "execution_count": 137,
   "outputs": [
    {
     "data": {
      "text/plain": "<Figure size 432x288 with 1 Axes>",
      "image/png": "[encoded data removed]"
     },
     "metadata": {
      "needs_background": "light"
     },
     "output_type": "display_data"
    }
   ],
   "source": [
    "max_level = 10\n",
    "# x = np.linspace(-2, 100, max_level)\n",
    "# w = np.exp(x)[::-1]\n",
    "w = [1**i for i in range(max_level, 0, -1)]\n",
    "\n",
    "pdf = w[0] * ao.get_pdf_norm_graph(0)\n",
    "\n",
    "for i in range(1, max_level):\n",
    "    pdf += w[i] * ao.get_pdf_norm_graph(i)\n",
    "\n",
    "pdf /= sum(w)\n",
    "\n",
    "plt.plot(log_return.index, log_return, label='Real')\n",
    "plt.plot(ao.position, pdf, label='Simulation')\n",
    "# plt.plot(ao.position, np.diag(ao.potential), label='Potential')\n",
    "plt.legend()\n",
    "plt.show()"
   ],
   "metadata": {
    "collapsed": false,
    "pycharm": {
     "name": "#%%\n",
     "is_executing": false
    }
   }
  },
  {
   "cell_type": "code",
   "execution_count": 176,
   "outputs": [
    {
     "data": {
      "text/plain": "<Figure size 432x288 with 1 Axes>",
      "image/png": "[encoded data removed]"
     },
     "metadata": {
      "needs_background": "light"
     },
     "output_type": "display_data"
    }
   ],
   "source": [
    "w = [100, 50, 50, 35 ,25, 25, 15, 15, 10, 10, 1, 1]\n",
    "\n",
    "pdf = w[0] * ao.get_pdf_norm_graph(0)\n",
    "pdf += w[1] * ao.get_pdf_norm_graph(1)\n",
    "pdf += w[1] * ao.get_pdf_norm_graph(2)\n",
    "pdf += w[1] * ao.get_pdf_norm_graph(3)\n",
    "pdf += w[1] * ao.get_pdf_norm_graph(4)\n",
    "pdf += w[1] * ao.get_pdf_norm_graph(5)\n",
    "pdf += w[1] * ao.get_pdf_norm_graph(6)\n",
    "pdf += w[1] * ao.get_pdf_norm_graph(7)\n",
    "pdf += w[1] * ao.get_pdf_norm_graph(8)\n",
    "pdf += w[2] * ao.get_pdf_norm_graph(10)\n",
    "pdf += w[3] * ao.get_pdf_norm_graph(100)\n",
    "pdf += w[4] * ao.get_pdf_norm_graph(200)\n",
    "pdf += w[5] * ao.get_pdf_norm_graph(201)\n",
    "pdf += w[6] * ao.get_pdf_norm_graph(300)\n",
    "pdf += w[7] * ao.get_pdf_norm_graph(301)\n",
    "pdf += w[8] * ao.get_pdf_norm_graph(500)\n",
    "pdf += w[9] * ao.get_pdf_norm_graph(501)\n",
    "pdf += w[10] * ao.get_pdf_norm_graph(700)\n",
    "pdf += w[11] * ao.get_pdf_norm_graph(701)\n",
    "\n",
    "pdf /= sum(w)\n",
    "\n",
    "plt.plot(log_return.index, log_return, label='Real')\n",
    "plt.plot(ao.position, pdf, label='Simulation')\n",
    "plt.legend()\n",
    "\n",
    "plt.show()"
   ],
   "metadata": {
    "collapsed": false,
    "pycharm": {
     "name": "#%%\n",
     "is_executing": false
    }
   }
  }
 ],
 "metadata": {
  "kernelspec": {
   "display_name": "Python 3",
   "language": "python",
   "name": "python3"
  },
  "language_info": {
   "codemirror_mode": {
    "name": "ipython",
    "version": 2
   },
   "file_extension": ".py",
   "mimetype": "text/x-python",
   "name": "python",
   "nbconvert_exporter": "python",
   "pygments_lexer": "ipython2",
   "version": "2.7.6"
  },
  "pycharm": {
   "stem_cell": {
    "cell_type": "raw",
    "source": [],
    "metadata": {
     "collapsed": false
    }
   }
  }
 },
 "nbformat": 4,
 "nbformat_minor": 0
}